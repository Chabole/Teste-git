{
 "cells": [
  {
   "cell_type": "markdown",
   "metadata": {},
   "source": [
    "### Bloco 1 - Desafio 1"
   ]
  },
  {
   "cell_type": "code",
   "execution_count": 13,
   "metadata": {},
   "outputs": [
    {
     "name": "stdout",
     "output_type": "stream",
     "text": [
      "Preço total a pagar R$120.750 \n"
     ]
    }
   ],
   "source": [
    "qtd_km, qtd_dias = float(input('Escreva a quantidade de km percorridos')), float(input('Escreva o número de dias'))\n",
    "print(f'Preço total a pagar R${((60*qtd_dias) + (0.15*qtd_km)):.2f} ')"
   ]
  },
  {
   "cell_type": "markdown",
   "metadata": {},
   "source": [
    "### Bloco 1 - Desafio 2"
   ]
  },
  {
   "cell_type": "code",
   "execution_count": null,
   "metadata": {},
   "outputs": [],
   "source": [
    "x = float(input('Digite um número: '))\n",
    "print(f'Seu dobro é {x*2}, seu triplo é {x*3} e sua raiz quadrada é {x**(1/2)}')"
   ]
  },
  {
   "cell_type": "markdown",
   "metadata": {},
   "source": [
    "### Bloco 1 - Desafio 3"
   ]
  },
  {
   "cell_type": "code",
   "execution_count": 16,
   "metadata": {},
   "outputs": [
    {
     "name": "stdout",
     "output_type": "stream",
     "text": [
      "A média das notas são 3.5\n"
     ]
    }
   ],
   "source": [
    "nota1, nota2 = float(input('Digite um número: ')), float(input('Digite um número: '))\n",
    "print(f'A média das notas é {(nota1+nota2)/2}')\n"
   ]
  },
  {
   "cell_type": "markdown",
   "metadata": {},
   "source": [
    "### Bloco 2 - Desafio 1"
   ]
  },
  {
   "cell_type": "code",
   "execution_count": 39,
   "metadata": {},
   "outputs": [
    {
     "name": "stdout",
     "output_type": "stream",
     "text": [
      "Número por extenso é: \"cinco\"\n"
     ]
    }
   ],
   "source": [
    "while True:\n",
    "    x = int(input('Digite um número entre 1 e 20: '))\n",
    "    if (x < 0) or (x>20):\n",
    "        x = int(input('Erro! Digite um número entre 1 e 20: ')) \n",
    "    else:\n",
    "        break\n",
    "dic = { 0:'zero', 1:'um', 2:'dois', 3:'três', 4:'quatro', 5:'cinco', \n",
    "        6:'seis', 7:'seta', 8:'oito', 9:'nove', 10:'dez', \n",
    "        11:'onze', 12:'doze', 13:'treze', 14:'catorze', \n",
    "        15:'quinze', 16:'dezeseis', 17:'dezesete', \n",
    "        18:'dezoito', 19:'dezenove', 20:'vinte'}\n",
    "print(f'Número por extenso é: \"{dic[x]}\"')"
   ]
  },
  {
   "cell_type": "markdown",
   "metadata": {},
   "source": [
    "### Bloco 2 - Desafio 2"
   ]
  },
  {
   "cell_type": "code",
   "execution_count": 3,
   "metadata": {},
   "outputs": [
    {
     "name": "stdout",
     "output_type": "stream",
     "text": [
      "-------- JOGO 1 --------\n",
      "[24, 46, 32, 57, 44, 20]\n",
      "------------------------\n",
      "-------- JOGO 2 --------\n",
      "[16, 11, 30, 13, 29, 49]\n",
      "------------------------\n",
      "-------- JOGO 3 --------\n",
      "[39, 60, 8, 15, 8, 56]\n",
      "------------------------\n"
     ]
    }
   ],
   "source": [
    "import random\n",
    "\n",
    "def sortear():\n",
    "    return random.randint(1, 60)\n",
    "\n",
    "x = int(input('Quantos jogos serão jogados: '))\n",
    "\n",
    "for jogo in range(x):\n",
    "    print(f'-------- JOGO {jogo+1} --------')\n",
    "    lista = []\n",
    "    for i in range(6):\n",
    "        lista.append(random.randint(0,60))\n",
    "    print(f'{lista}')\n",
    "    print('------------------------')"
   ]
  },
  {
   "cell_type": "markdown",
   "metadata": {},
   "source": [
    "### Bloco 2 - Desafio 3"
   ]
  },
  {
   "cell_type": "code",
   "execution_count": 64,
   "metadata": {},
   "outputs": [
    {
     "name": "stdout",
     "output_type": "stream",
     "text": [
      "O nome do aluno é arthur sua média é 5.0, situação  Passou\n"
     ]
    }
   ],
   "source": [
    "nome, média = (input('Nome do aluno: ')), float(input('Média do aluno: '))\n",
    "if média >= 5:\n",
    "    dic = {nome:[média, 'Passou']}\n",
    "else:\n",
    "    dic = {nome:[média, 'Tomou pau']}\n",
    "print(f'O nome do aluno é: {nome} sua média é: {dic[nome][0]:.2f}, situação: {dic[nome][1]}')\n"
   ]
  },
  {
   "cell_type": "markdown",
   "metadata": {},
   "source": [
    "### Bloco 3 - Desafio 1"
   ]
  },
  {
   "cell_type": "code",
   "execution_count": 63,
   "metadata": {},
   "outputs": [
    {
     "data": {
      "text/plain": [
       "5.0"
      ]
     },
     "execution_count": 63,
     "metadata": {},
     "output_type": "execute_result"
    }
   ],
   "source": [
    "def voto(data_nasc):\n",
    "    idade = data_nasc - 2022\n",
    "    if idade < 16: \n",
    "        print(f'Vc tem {idade} anos - NÃO VOTA')\n",
    "    if idade>=16 or idade>18:\n",
    "        print(f'Vc tem {idade} anos - NÃO OPCIONAL')\n",
    "    else:\n",
    "        print(f'Vc tem {idade} anos - NÃO OBRIGATÓRIO')\n",
    "    return None\n",
    "\n",
    "x = int(input('Qual a sua idade: '))\n",
    "voto(x)"
   ]
  },
  {
   "cell_type": "markdown",
   "metadata": {},
   "source": [
    "### Bloco 3 - Desafio 2"
   ]
  },
  {
   "cell_type": "code",
   "execution_count": 66,
   "metadata": {},
   "outputs": [
    {
     "name": "stdout",
     "output_type": "stream",
     "text": [
      "6\n"
     ]
    }
   ],
   "source": [
    "x = list(input('Valores da lista separado por \",\": '))\n",
    "\n",
    "def maximo_valor(lista):\n",
    "    return max(lista)\n",
    "\n",
    "print(maximo_valor(x))"
   ]
  },
  {
   "cell_type": "markdown",
   "metadata": {},
   "source": [
    "### Bloco 3 - Desafio 3"
   ]
  },
  {
   "cell_type": "code",
   "execution_count": 69,
   "metadata": {},
   "outputs": [
    {
     "name": "stdout",
     "output_type": "stream",
     "text": [
      "Só aceito números inteiros\n"
     ]
    }
   ],
   "source": [
    "def LER():\n",
    "    try: \n",
    "        return int(input('Valores da lista separado por \",\": '))\n",
    "    except:\n",
    "        print('Só aceito números inteiros')\n",
    "LER()"
   ]
  },
  {
   "cell_type": "markdown",
   "metadata": {},
   "source": [
    "### Bloco 3 - Desafio 4"
   ]
  },
  {
   "cell_type": "code",
   "execution_count": 83,
   "metadata": {},
   "outputs": [
    {
     "name": "stdout",
     "output_type": "stream",
     "text": [
      "5\n",
      "20\n",
      "60\n",
      "120\n",
      "120\n"
     ]
    },
    {
     "data": {
      "text/plain": [
       "120"
      ]
     },
     "execution_count": 83,
     "metadata": {},
     "output_type": "execute_result"
    }
   ],
   "source": [
    "def fatorial(valor, nudez=False):\n",
    "    fat = 1\n",
    "    for i in range(valor, 0, -1):  \n",
    "        fat *= i\n",
    "    return fat\n",
    "\n",
    "x = int(input('Digite um valor: '))\n",
    "fatorial(x, True)\n"
   ]
  }
 ],
 "metadata": {
  "interpreter": {
   "hash": "894588d70223105318f3a6143f469ff55b12e3d45628534b2f37efc006a33ec3"
  },
  "kernelspec": {
   "display_name": "Python 3.8.8 64-bit ('base': conda)",
   "language": "python",
   "name": "python3"
  },
  "language_info": {
   "codemirror_mode": {
    "name": "ipython",
    "version": 3
   },
   "file_extension": ".py",
   "mimetype": "text/x-python",
   "name": "python",
   "nbconvert_exporter": "python",
   "pygments_lexer": "ipython3",
   "version": "3.8.8"
  },
  "orig_nbformat": 4
 },
 "nbformat": 4,
 "nbformat_minor": 2
}
